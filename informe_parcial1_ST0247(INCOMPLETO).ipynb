{
  "nbformat": 4,
  "nbformat_minor": 0,
  "metadata": {
    "colab": {
      "provenance": [],
      "include_colab_link": true
    },
    "kernelspec": {
      "name": "python3",
      "display_name": "Python 3"
    },
    "language_info": {
      "name": "python"
    }
  },
  "cells": [
    {
      "cell_type": "markdown",
      "metadata": {
        "id": "view-in-github",
        "colab_type": "text"
      },
      "source": [
        "<a href=\"https://colab.research.google.com/github/miguelangel17z/Practica1-Estructura-de-datos-y-algoritmos/blob/main/informe_parcial1_ST0247(INCOMPLETO).ipynb\" target=\"_parent\"><img src=\"https://colab.research.google.com/assets/colab-badge.svg\" alt=\"Open In Colab\"/></a>"
      ]
    },
    {
      "cell_type": "markdown",
      "source": [
        "# **Complejidad temporal O(n) algoritmos de búsqueda:**\n"
      ],
      "metadata": {
        "id": "Bh1UD3lRy8YZ"
      }
    },
    {
      "cell_type": "markdown",
      "source": [
        "#### 1) Busqueda Secuencial:"
      ],
      "metadata": {
        "id": "ntU10JRezKsA"
      }
    },
    {
      "cell_type": "markdown",
      "source": [
        "```Java\n",
        "1.  private static int linearSearch(int arr[], int n, int num) {\n",
        "2.      for (int i = 0; i < n; i++) {\n",
        "3.          if (arr[i] == num) {\n",
        "4.              return i;\n",
        "5.          }\n",
        "6.      }\n",
        "7.      return -1;\n",
        "8.  }\n",
        "```\n"
      ],
      "metadata": {
        "id": "7Zj6Kw5_IHBJ"
      }
    },
    {
      "cell_type": "markdown",
      "source": [
        "Usando la siguiente ecuación para calcular la complejidad:\n",
        "\n",
        "$$ T(n) = \\sum_{i=1}^{Final-Inicio+1} T_{1,i}(n) + 2 \\cdot (Final - Inicio + 1) \\cdot c $$\n",
        "\n",
        "De la segunda línea podemos ver que nuestro incio es $I = 0$ y nuestro final es $F = n-1$ (ya que i < n). Luego, las operaciones de comparación y asignación dentro del ciclo tienen una complejidad $O(1)$. Finalmente, el cuerpo del ciclo, es decir, en las líneas 3 y 4 tenemos una comparacíon y un retorno, ambos con complejidad $O(1)$. Ahora, de esto tenemos lo siguiente:\n",
        "\n",
        "* $Final−Inicio+1 = (n-1)-(0+1) = n$    \n",
        "* $T_{1,i}(n) = O(1)$\n",
        "* $c = O(1)$\n",
        "\n",
        "Por lo que $T(n)$ es igual a:\n",
        "\n",
        "$$ T(n) = \\sum_{i=1}^{n} O(1) + 2 \\cdot (n) \\cdot O(1) $$ desglosando esto en dos sumatorias:\n",
        "\n",
        "1. $ \\sum_{i=1}^{n} O(1) = n \\cdot O(1) = O(n) $\n",
        "2. $ \\sum_{i=1}^{n} 2 \\cdot (n) \\cdot O(1) = 2n \\cdot O(1) = O(n) $\n",
        "\n",
        "Finalmete sumando estos dos resultados tenemos que:  $T(n) = O(n)$\n",
        "\n",
        "---\n",
        "\n",
        "\n",
        "\n",
        "\n",
        "\n"
      ],
      "metadata": {
        "id": "9y3mfu6Iy65g"
      }
    },
    {
      "cell_type": "markdown",
      "source": [
        "2. Busque Binaria:"
      ],
      "metadata": {
        "id": "1No1NRFGAICp"
      }
    }
  ]
}