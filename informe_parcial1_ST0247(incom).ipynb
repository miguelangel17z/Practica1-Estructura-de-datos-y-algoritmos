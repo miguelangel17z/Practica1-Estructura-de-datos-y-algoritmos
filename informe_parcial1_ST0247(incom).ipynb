{
  "nbformat": 4,
  "nbformat_minor": 0,
  "metadata": {
    "colab": {
      "provenance": []
    },
    "kernelspec": {
      "name": "python3",
      "display_name": "Python 3"
    },
    "language_info": {
      "name": "python"
    }
  },
  "cells": [
    {
      "cell_type": "markdown",
      "source": [
        "# **Informe Parcial 1 Estructuras de Datos y Algoritmos 2**\n",
        "\n",
        "#### Profesor: Carlos Álvarez Henao\n",
        "\n",
        "#### Integrantes: Miguel Angel Garcia Osorio y Dorian Alejandro Guisao Ospina.\n",
        "\n"
      ],
      "metadata": {
        "id": "X3q1EAGtbWkd"
      }
    },
    {
      "cell_type": "markdown",
      "source": [
        "# **Complejidad temporal *Big-Oh* en algoritmos de ordenamiento:**"
      ],
      "metadata": {
        "id": "Rs_gaEQqR7Gz"
      }
    },
    {
      "cell_type": "markdown",
      "source": [
        "#### 1) **Selection Sort:**"
      ],
      "metadata": {
        "id": "AJ-YfzRwSMwT"
      }
    },
    {
      "cell_type": "markdown",
      "source": [
        "```Java\n",
        "1.  int[] selectionSort(int[] array) {\n",
        "2.      for (int i = 0; i < array.length; i++) {\n",
        "3.          int minimo = i;\n",
        "4.          for (int j = i + 1; j < array.length; j++) {\n",
        "5.              if (array[j] < array[minimo]) {\n",
        "6.                  minimo = j;\n",
        "7.              }\n",
        "8.          }\n",
        "9.          int aux = array[i];\n",
        "10.         array[i] = array[minimo];\n",
        "11.         array[minimo] = aux;\n",
        "12.     }\n",
        "13.     return array;\n",
        "14. }\n",
        "```"
      ],
      "metadata": {
        "id": "rZDSOiRzSReb"
      }
    },
    {
      "cell_type": "markdown",
      "source": [
        "Para calcular la complejidad algoritmica de este algoritmo primero debemos notar que tiene dos ciclos *for*, uno anidado dentro del otro, por eso calcularemos la complejidad temporal de cada ciclo para después mediante la regla del producto calcular la complejidad total. Para calcular ambas complejidades usamos la siguiente fórmula para el cálculo de la complejidad de ciclos *for* *(la llamaremos $F1$)*:\n",
        "\n",
        "$$ T(n) = \\sum_{i=1}^{Final-Inicio+1} T_{1,i}(n) + 2 \\cdot (Final - Inicio + 1) \\cdot c $$\n",
        "\n",
        "Las partes de la fórmula son:\n",
        "\n",
        "1. $T_{1,i}(n)$, o complejidad del cuerpo del ciclo.\n",
        "2. ($2 \\cdot (Final - Inicio + 1) \\cdot c$), o número de iteraciones del ciclo.\n",
        "\n",
        "Ahora, en el primer ciclo (línea 2) notamos que $inicio  = 0$ y que $final = n- 1 $ (n = tamaño del arreglo) porque temos que recorrer el arreglo en toda su longitud, luego los condicionales y asignaciones dentro del arreglo tienen una complejidad total de $O(1)$ y al ciclo le sigue una asignacion simple $O(1)$ y un *swap* con complejidad $O(1)$ tambien, de este primer ciclo tenemos:\n",
        "\n",
        "* $Final−Inicio+1 = (n-1)-0+1 = n$     \n",
        "* $T_{1,i}(n) = O(1)$\n",
        "\n",
        "Por $F1$ la complejidad de este primer ciclo es $O(n)$, ahora veamos el segundo ciclo.\n",
        "\n",
        "En este segundo ciclo volvemos a recorrer todo el arreglo, la complejidad de los condicionales y asignaciones dentro del arreglo tambien tienen una complejidad de $O(1)$, el cuerpo del arreglo tambien tiene complejidad $O(1)$ esto nos da lo siguiente:\n",
        "\n",
        "* $Final−Inicio+1 = (n)-(0+1) = n-1$     \n",
        "* $T_{1,i}(n) = O(1)$\n",
        "\n",
        "Por $F1$ la complejidad de este segundo ciclo es  tambien $O(n)$. Finalmente, aplicando regla del produco $T(n)$ es:\n",
        "\n",
        "$T(n) = O(n) ⋅ O(n) =  O(n^2) $\n",
        "\n",
        "\n",
        "\n",
        "\n",
        "\n",
        "\n",
        "\n"
      ],
      "metadata": {
        "id": "n-1f2yGKSzgW"
      }
    },
    {
      "cell_type": "markdown",
      "source": [
        "#### 2) **Bubble Sort:**"
      ],
      "metadata": {
        "id": "jidDnu2ySTuD"
      }
    },
    {
      "cell_type": "markdown",
      "source": [
        "```Java\n",
        "1.  int[] bubbleSort(int[] array) {\n",
        "2.      for (int i = 1; i < array.length; i++) {\n",
        "3.          for (int j = 0; j < array.length - i; j++) {\n",
        "4.              if (array[j] > array[j + 1]) {\n",
        "5.                  int aux = array[j + 1];\n",
        "6.                  array[j + 1] = array[j];\n",
        "7.                  array[j] = aux;\n",
        "8.              }\n",
        "9.          }\n",
        "10.     }\n",
        "11.     return array;\n",
        "12. }\n",
        "```"
      ],
      "metadata": {
        "id": "YyNYBMOzSUMC"
      }
    },
    {
      "cell_type": "markdown",
      "source": [
        "En esta algoritmo estamos en el mismo caso que en el anterior, es decir, tenemos dos ciclos *for* anidados, pero no podemos usar la fórmula anterior ya que el ciclo interno es dependiente del ciclo externo asi que debemos la siguiente fórmula: $ T(n) = k + T_{1,i}(n) $ donde $k$ es el número de iteraciones.\n",
        "\n",
        "El primer ciclo se ejecuta $n-1$ veces ya que su función es recorrer todo el arreglo. El segundo ciclo se ejecuta $n-i$ veces en cada iteración del ciclo externo. Por ejemplo, la primera ($i=1$) vez el ciclo interno se ejecuta $n-1$ veces, la segunda $n-2$ veces, asi hasta $n-1$ iteraciones del ciclo externo que es cuando el ciclo externo se deja de ejecutar. También se observa un *swap* en el cuerpo ciclo interno con una complejidad de $O(1)$.\n",
        "\n",
        "Sabiendo esto, podemos darnos cuenta de que el ciclo sigue un patron en las iteraciones:\n",
        "$k = (n−1)+(n−2)+(n−3)+⋯+1$, esto lo podemos expresar con la siguiente sumatoria:\n",
        "\n",
        "$$k =\\sum_{i=1}^{n-1}(n-i) = \\sum_{i=1}^{n-1} i = \\frac {n(n-1)}{2} $$\n",
        "\n",
        "Finalmente, conociendo $k$ y $T_{1,i}(n)$, por la fórmula y la regla del producto:\n",
        "\n",
        "$$T(n) = O(1) ⋅ \\frac {n(n-1)}{2} = O(1)⋅ (\\frac {n^2}{2}+ (-\\frac {n}{2})) = O(n^2)$$\n",
        "\n",
        "Nota: este cálculo se realizó con ayuda de DeepSeek.\n",
        "\n",
        "\n",
        "\n"
      ],
      "metadata": {
        "id": "Fq37D9MkSUkb"
      }
    },
    {
      "cell_type": "markdown",
      "source": [
        "#### 3) **Shell Sort:**"
      ],
      "metadata": {
        "id": "7Il6KuYoSU5z"
      }
    },
    {
      "cell_type": "markdown",
      "source": [
        "```Java\n",
        "1.  int[] shellSort(int[] array) {\n",
        "2.      int gap = array.length / 2;\n",
        "3.      while (gap > 0) {\n",
        "4.          for (int i = gap; i < array.length; i++) {\n",
        "5.              int current = array[i];\n",
        "6.              int j = i;\n",
        "7.              while (j >= gap && array[j - gap] > current) {\n",
        "8.                  array[j] = array[j - gap];\n",
        "9.                  j -= gap;\n",
        "10.             }\n",
        "11.             array[j] = current;\n",
        "12.         }\n",
        "13.         gap = gap / 2;\n",
        "14.     }\n",
        "15.     return array;\n",
        "16. }\n",
        "```"
      ],
      "metadata": {
        "id": "LQAifYq2SXZz"
      }
    },
    {
      "cell_type": "markdown",
      "source": [
        "Para calcular la complejidad de este algoritmo vamos a usar la fórmula $F1$ y añadiremos la siguiente fórmula que llamaremos $F2$ y es la fórmula para la complejidad de ciclos *while* :\n",
        "\n",
        "$$ T(n) = \\sum_{i=1}^{k-1} T_{2,i}(n) + k \\cdot T_{\\text{cond}}(n)$$\n",
        "\n",
        "1. Primero calculemos la complejidad del primer while:\n",
        "\n",
        "  * $T_{1,i}(n) = O(1)$\n",
        "  * $T_{\\text{cond}}(n)= O(1)$, ambas complejidades son $O(1)$, ya que solo tienen asignaciones y comparaciones simples.\n",
        "  * $k = n log(n)$, veamos el proceso detallado del calculo de $k$.\n",
        "\n",
        "  para calcular $k$, primero debemos notar que la cantidad de iteraciones del primer while se va decrementando a medida que pasa cada iteración. Por ejemplo, en la primera iteración hay $n$ iteraciones, pero después las iteraciones disminuyen igual que nuestro *gap* (linea 2 y 13) esto se decrementara hasta 1 que es cuando ya no se comple la condicion de (*gap* > 0), asi obtenemos el siguiente patron en las iteraciones: $n, \\frac{n}{2}, \\frac{n}{4}, \\frac{n}{8},\\frac{n}{16} \\ldots, 1$.\n",
        "\n",
        "  Para hallar $k$ debemos resolver la siguiente ecuación: $\\frac{n}{2^k}=1$. Despejando para $k$ tenemos $n=2^k$, luego $\\log(n)=\\log_2(k)$, sabiendo esto aplicamos $F2$ y tenemos que la compeljidad del primer ciclo while es $ n \\log(n)$ (*Siendo sincero, no se de donde sale esa $n$ que multiplica al logaritmo, la pongo porque sé que asi debe ser*).\n",
        "\n",
        "2. Calculemos la complejidad del *for* que esta dentro del primer *while*:\n",
        "\n",
        "  La complejidad de todos los elementos de este ciclo es de $O(1)$, excepto por su cantidad de iteraciones, $inicio = gap$ y $final = n-1$ por lo que calculando la cantidad de iteraciones tenemos que $k = n-1-gap+1 = n-gap$\n",
        "\n",
        "3. Calculemos la complejidad del segundo *while*:\n",
        "\n",
        "  *En* este while su cuerpo y su condición de parada tiene una complejidad de $O(1)$ ambas y su $k= \\frac{n}{gap}$ ya que en el peor de los casos esto es casi igual a $n$\n",
        "\n",
        "4. Aplicar regla del producto para calcular la complejidad total:\n",
        "\n",
        "  $T(n) = O(n \\log (n)) \\cdot n-gap \\cdot \\frac{n}{gap} = O(n \\log (n)) \\cdot n^2) $"
      ],
      "metadata": {
        "id": "rqoNCx0rSYKT"
      }
    },
    {
      "cell_type": "markdown",
      "source": [
        "#### 4) **Quick Sort:**"
      ],
      "metadata": {
        "id": "cadLwmOzSYiC"
      }
    },
    {
      "cell_type": "markdown",
      "source": [
        "```Java\n",
        "1.  private void swap(int[] arr, int i, int j) {  \n",
        "2.  }  \n",
        "\n",
        "3.  private int partitioning(int[] arr, int low, int high) {  \n",
        "4.  }  \n",
        "\n",
        "5.  void quickSort(int[] arr, int low, int high) {  \n",
        "6.      if (low < high) {  \n",
        "7.          int j = partitioning(arr, low, high);  \n",
        "8.          quickSort(arr, low, j - 1);  \n",
        "9.          quickSort(arr, j + 1, high);  \n",
        "10.     }  \n",
        "11. }\n",
        "```"
      ],
      "metadata": {
        "id": "T5mwosGVSY6D"
      }
    },
    {
      "cell_type": "markdown",
      "source": [
        "Nota: El código de arriba es un código sin el cuerpo de las funciones *swap* y *partitioning*, para ahorrar espacio.\n",
        "\n",
        "La función *swap* es llamada en *partitioning*, pero la complejidad de *swap* es $O(1)$ por lo que no afecta la complejidad de *partitioning*. La función de *partitioning* es recorrer nuestro arreglo desde ambos extremos (low, high) de nuestro arreglo hasta que se cruzen, la complejidad Big-Oh de *partitioning* es de $O(n)$ porque en el peor caso deberemos recorrer todo el arreglo para que low y high se cruzen (omitimos los calculos detallados en esta parte ya que lo verdaderamente importante de este algoritmo es la recursión).\n",
        "\n",
        "El peor caso ocurre cuando el pivote siempre es el elemento más pequeño o más grande del arreglo, lo que resulta en una partición desbalanceada. Por ejemplo, si el arreglo ya está ordenado y el pivote es el primer elemento, en cada llamada recursiva el arreglo se divide en un subarreglo de tamaño $n − 1$ y otro de tamaño $0$. Esto hace que la profundidad de la recursión sea  $n$, ya que el tamaño del arreglo solo se reduce en 1 en cada llamada. Además, en cada nivel de recursión se realiza una partición que toma $O(n)$. Por lo tanto, multiplicando el trabajo en cada nivel por la profundidad de la recursión, la complejidad total en el peor caso es $T(n)=O(n)×n=O(n^2)$.\n",
        "\n",
        "\n"
      ],
      "metadata": {
        "id": "Sn34w_JoS-jL"
      }
    },
    {
      "cell_type": "markdown",
      "source": [
        "#### 5) **Merge Sort:**"
      ],
      "metadata": {
        "id": "tE-D5MjRS-5r"
      }
    },
    {
      "cell_type": "markdown",
      "source": [
        "```Java\n",
        "1.  private void merge(int[] arr, int low, int mid, int high) {  \n",
        "2.  }  \n",
        "\n",
        "3.  void mergeSort(int[] arr, int low, int high) {  \n",
        "4.      if (low < high) {  \n",
        "5.          int mid = (low + high) / 2;  \n",
        "6.          mergeSort(arr, low, mid);  \n",
        "7.          mergeSort(arr, mid + 1, high);  \n",
        "8.          merge(arr, low, mid, high);  \n",
        "9.      }  \n",
        "10. }  \n",
        "```"
      ],
      "metadata": {
        "id": "Xy1xHa9oS_Hs"
      }
    },
    {
      "cell_type": "markdown",
      "source": [
        "Merge Sort divide el arreglo en dos mitades recursivamente hasta que cada subarreglo tiene un solo elemento. Luego, combina los subarreglos ordenados con la función merge, cuya complejidad es   $O(n)$. La profundidad de la recursión es $\\log_2(n)$, ya que el tamaño del arreglo se reduce a la mitad en cada nivel. Como en cada nivel se realiza una combinación de $O(n)$, la complejidad total de Merge Sort es $O(n \\log(n))$."
      ],
      "metadata": {
        "id": "MqHPLZK_S_er"
      }
    },
    {
      "cell_type": "markdown",
      "source": [
        "## **Preguntas de análisis algoritmos de ordenamientos**\n",
        "\n",
        "1. ¿Cómo varía el tiempo de ejecución a medida que aumenta el tamaño del arreglo?\n",
        "  * El tiempo de ejecución varía dependiendo de la función que defina la complejidad del algoritmo (en nuestro caso Big-Oh). Por ejemplo, el tiempo de ejecución del bubble sort aumenta con el cuadrado de la entrada ($O(n^2)$). En esta tabla esta el resumen de como cambia el tiempo a medida que aumenta el tamaño de ka entrada de los algoritmos que realizamos o se pueden ver las gráficas al final:\n",
        "\n",
        "            | Algoritmo      | Complejidad \\( O(n) \\) |\n",
        "            |----------------|----------------------|\n",
        "            | Bubble Sort    | \\( O(n^2) \\)         |\n",
        "            | Selection Sort | \\( O(n^2) \\)         |\n",
        "            | Shell Sort     | \\$( O((n \\log(n)) n^2) \\)$  |\n",
        "            | Quick Sort     | \\( O(n^2) \\)  |\n",
        "            | Merge Sort     | \\( O(n log n) \\)    |\n",
        "\n",
        "\n",
        "\n",
        "2. Explica la complejidad Big-O de cada algoritmo.\n",
        "  * La respuesta esta arriba.\n",
        "3. ¿Por qué algunos métodos son significativamente más rápidos que otros?\n",
        "  * Algunos algoritmos son significativamente más rápidos que otros, ya que implementan técnicas como \"divide y vencerás\". En este caso concreto, al dividir el problema en subproblemas más pequeños, nos ahorramos una gran cantidad de recursos porque no tenemos que realizar todo el proceso. Otros simplemente son versiones mejoradas de algoritmos ya existentes como lo es el shell sort al selection sort.\n",
        "\n",
        "    Un gran ejemplo de esto son los algoritmos de búsqueda. En la búsqueda secuencial, casi que dependemos de la suerte para que el dato a encontrar no esté en los últimos índices del arreglo, es decir, no es una solución óptima en la mayoría de los casos.\n"
      ],
      "metadata": {
        "id": "zLE2X95YJBdu"
      }
    },
    {
      "cell_type": "markdown",
      "source": [
        "# **Complejidad temporal *Big-Oh* en algoritmos de búsqueda:**\n"
      ],
      "metadata": {
        "id": "Bh1UD3lRy8YZ"
      }
    },
    {
      "cell_type": "markdown",
      "source": [
        "#### **1) Busqueda Secuencial:**"
      ],
      "metadata": {
        "id": "ntU10JRezKsA"
      }
    },
    {
      "cell_type": "markdown",
      "source": [
        "```Java\n",
        "1.  private static int linearSearch(int arr[], int n, int num) {\n",
        "2.      for (int i = 0; i < n; i++) {\n",
        "3.          if (arr[i] == num) {\n",
        "4.              return i;\n",
        "5.          }\n",
        "6.      }\n",
        "7.      return -1;\n",
        "8.  }\n",
        "```\n"
      ],
      "metadata": {
        "id": "7Zj6Kw5_IHBJ"
      }
    },
    {
      "cell_type": "markdown",
      "source": [
        "Usando la siguiente ecuación para calcular la complejidad:\n",
        "\n",
        "$$ T(n) = \\sum_{i=1}^{Final-Inicio+1} T_{1,i}(n) + 2 \\cdot (Final - Inicio + 1) \\cdot c $$\n",
        "\n",
        "De la segunda línea podemos ver que nuestro incio es $I = 0$ y nuestro final es $F = n-1$ (ya que i < n). Luego, las operaciones de comparación y asignación dentro del ciclo tienen una complejidad $O(1)$. Finalmente, el cuerpo del ciclo, es decir, en las líneas 3 y 4 tenemos una comparacíon y un retorno, ambos con complejidad $O(1)$. Ahora, de esto tenemos lo siguiente:\n",
        "\n",
        "* $Final−Inicio+1 = (n-1)-(0+1) = n$     \n",
        "* $T_{1,i}(n) = O(1)$ (cuerpo del ciclo)\n",
        "* $c = O(1)$ (constante)\n",
        "\n",
        "Por lo que $T(n)$ es igual a:\n",
        "\n",
        "$$ T(n) = \\sum_{i=1}^{n} O(1) + 2 \\cdot (n) \\cdot O(1) $$ desglosando esto en dos sumatorias:\n",
        "\n",
        "1. $ \\sum_{i=1}^{n} O(1) = n \\cdot O(1) = O(n) $\n",
        "2. $ \\sum_{i=1}^{n} 2 \\cdot (n) \\cdot O(1) = 2n \\cdot O(1) = O(n) $\n",
        "\n",
        "Finalmete sumando estos dos resultados tenemos que:  $T(n) = O(n) + O(n) = O(n)$\n",
        "\n",
        "---\n",
        "\n",
        "\n",
        "\n",
        "\n",
        "\n"
      ],
      "metadata": {
        "id": "9y3mfu6Iy65g"
      }
    },
    {
      "cell_type": "markdown",
      "source": [
        "#### 2) **Busque Binaria:**"
      ],
      "metadata": {
        "id": "1No1NRFGAICp"
      }
    },
    {
      "cell_type": "markdown",
      "source": [
        "```Java\n",
        "1.  private static boolean binarySearch(int arr[], int n, int num) {\n",
        "2.      int low = 0;\n",
        "3.      int high = n - 1;\n",
        "4.  \n",
        "5.      while (low <= high) {\n",
        "6.          int mid = ((high - low) / 2) + low;          \n",
        "8.          if (arr[mid] == num) {\n",
        "9.              return true;\n",
        "10.         }\n",
        "11.         else if (num < arr[mid]) {\n",
        "12.             high = mid - 1;\n",
        "13.         }\n",
        "14.         else {\n",
        "15.             low = mid + 1;\n",
        "16.         }\n",
        "17.     }\n",
        "18.     return false;\n",
        "19. }\n",
        "\n",
        "```\n"
      ],
      "metadata": {
        "id": "PXunB28cAmGx"
      }
    },
    {
      "cell_type": "markdown",
      "source": [
        "Al inicio de nuestro algoritmo tenemos dos asignaciones, con una complejidad total de $O(1)$. Luego viene el ciclo while, cuya condición de parada tiene una complejidad de $O(1)$. El cuerpo del ciclo también tiene una complejidad de  $O(1)$, porque solo realizamos asignaciones simples y comparaciones con una complejidad de $O(1)$. Así, la complejidad del cuerpo de nuestro ciclo es $O(1)$. Para proceder con el calculo de la complejidad del algoritmo contamos con la siguiente fórmula:\n",
        "\n",
        "$$T(n) = \\sum_{i=1}^{k-1} T_{2,i}(n) + k \\cdot T_{\\text{cond}}(n)$$\n",
        "\n",
        "$k$ es el número de iteraciones para reducir el espacio de búsqueda a _1_. En cada iteración, se calcula el punto medio del arreglo. Si el dato buscado está en el medio, se encuentra (mejor caso). Si no, el espacio de búsqueda se reduce a la mitad superior (dato mayor) o inferior (dato menor), repitiéndose hasta encontrar el dato o agotar el espacio. Esto refleja un patrón de división del espacio en cada iteración.\n",
        "\n",
        "1. Al reducir el espacio de busqueda a la mitad con cada iteración el ciclo tiene este comportamiento $n$, $\\frac{n}{2}$, $\\frac{n}{8}$ y, como se meciona arriba esto sigue hasta llegar a _1_, por lo que las iteraciones del ciclo siguen la siguiente relacion: $n, \\frac{n}{2}, \\frac{n}{4}, \\frac{n}{8},\\frac{n}{16} \\ldots, 1$.\n",
        "2. Para hallar $k$ debemos resolver la siguiente ecuación: $\\frac{n}{2^k}=1$. Despejando para $k$ tenemos $n=2^k$, luego $\\log(n)=\\log_2(k)$\n",
        "\n",
        "Para terminar, contamos con esta información para calcular $T(n)$:\n",
        "* $T_{2,i}(n) = O(1)$ (cuerpo de la función)\n",
        "* $T_{\\text{cond}}(n) = O(1)$ (condicón de parada)\n",
        "* $k = \\log(n)$\n",
        "\n",
        "Aplicando la fórmula tenemos que $T(n) = O(\\log(n))$\n",
        "\n"
      ],
      "metadata": {
        "id": "927oQQ5qCeKB"
      }
    },
    {
      "cell_type": "markdown",
      "source": [
        "## **Preguntas de análisis algoritmos de búsqueda:**\n",
        "\n",
        "1. Explica la complejidad de cada método de búsqueda en términos de Big-O.\n",
        "    * Arriba esta la respuesta.\n",
        "2. ¿En qué casos es preferible la búsqueda secuencial sobre la binaria?\n",
        "    * La búsqueda secuencia es preferible a la búsqueda binaria principalmente en dos casos, el primero es cuando sabemos que el dato que vamos a buscar esta en los indices inferiores del arreglo y el segundo es cuando no tenemos las capacidades técnicas, físicas, mentales, etc. Para ordenar nuestro arreglo, por lo que la única solución seria la busqueda secuencial.\n",
        "3. ¿Cómo cambia el rendimiento al aumentar el tamaño de los datos?\n",
        "    * El rendimiento de ambos algoritmos cambia en función de la complejidad de nuestro algoritmos. En el caso, de la búsqueda secuencial como se ve arriba su complejidad es de $O(n)$, lo que nos índica que en el peor caso deberemos recorrer todo el arreglo para encontrar un dato. Con la búsqueda binaria tenemos una situción completamente diferente ya que su peor caso es $O(\\log(n))$ por lo que a medida que aumentemos el número de datos el tiempo y los recursos requeridos para hallar un dato no seran tan exagerados como con la búsqueda secuencial."
      ],
      "metadata": {
        "id": "PwM2TOOvJOTQ"
      }
    },
    {
      "cell_type": "markdown",
      "source": [
        "# **Pruebas (Gráficas):**"
      ],
      "metadata": {
        "id": "0qjAUIDqLX7w"
      }
    },
    {
      "cell_type": "markdown",
      "source": [
        "## **Pruebas algoritmos de ordenamiento:**"
      ],
      "metadata": {
        "id": "UqTjLBr-LtSQ"
      }
    },
    {
      "cell_type": "markdown",
      "source": [
        "#### 1) **Selection Sort:**"
      ],
      "metadata": {
        "id": "2yxkaiU8MATR"
      }
    },
    {
      "cell_type": "markdown",
      "source": [
        "#### 2) **Bubble Sort:**"
      ],
      "metadata": {
        "id": "zLym9-PSMNkR"
      }
    },
    {
      "cell_type": "markdown",
      "source": [
        "#### 3) **Shell Sort:**"
      ],
      "metadata": {
        "id": "JGVXDnheMWch"
      }
    },
    {
      "cell_type": "markdown",
      "source": [
        "#### 4) **Quick Sort:**"
      ],
      "metadata": {
        "id": "kNJupDQGMYUp"
      }
    },
    {
      "cell_type": "markdown",
      "source": [
        "#### 5) **Merge Sort:**"
      ],
      "metadata": {
        "id": "snm8jS4_MZip"
      }
    },
    {
      "cell_type": "markdown",
      "source": [
        "## **Pruebas algoritmos de búsqueda**:"
      ],
      "metadata": {
        "id": "69MkxvpEMbhU"
      }
    },
    {
      "cell_type": "markdown",
      "source": [
        "#### 1) **Búsqueda Secuencial:**"
      ],
      "metadata": {
        "id": "ORX88_0JM4H5"
      }
    },
    {
      "cell_type": "markdown",
      "source": [
        "#### 2) **Búsqueda Binaria:**"
      ],
      "metadata": {
        "id": "DSgc2LACM4nZ"
      }
    }
  ]
}