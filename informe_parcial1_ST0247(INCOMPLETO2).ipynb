{
  "nbformat": 4,
  "nbformat_minor": 0,
  "metadata": {
    "colab": {
      "provenance": []
    },
    "kernelspec": {
      "name": "python3",
      "display_name": "Python 3"
    },
    "language_info": {
      "name": "python"
    }
  },
  "cells": [
    {
      "cell_type": "markdown",
      "source": [
        "# **Informe Parcial 1 Estructuras de Datos y Algoritmos 2**\n",
        "\n",
        "## Profesor: Carlos Álvarez Henao\n",
        "\n",
        "##Integrantes: Miguel Angel Garcia Osorio y Dorian Alejandro Guisao Ospina.\n",
        "\n"
      ],
      "metadata": {
        "id": "X3q1EAGtbWkd"
      }
    },
    {
      "cell_type": "markdown",
      "source": [
        "# **Complejidad temporal *Big-Oh* en algoritmos de ordenamiento:**"
      ],
      "metadata": {
        "id": "Rs_gaEQqR7Gz"
      }
    },
    {
      "cell_type": "markdown",
      "source": [
        "#### 1) **Selection Sort:**"
      ],
      "metadata": {
        "id": "AJ-YfzRwSMwT"
      }
    },
    {
      "cell_type": "markdown",
      "source": [
        "```Java\n",
        "1.  int[] selectionSort(int[] array) {\n",
        "2.      for (int i = 0; i < array.length; i++) {\n",
        "3.          int minimo = i;\n",
        "4.          for (int j = i + 1; j < array.length; j++) {\n",
        "5.              if (array[j] < array[minimo]) {\n",
        "6.                  minimo = j;\n",
        "7.              }\n",
        "8.          }\n",
        "9.          int aux = array[i];\n",
        "10.         array[i] = array[minimo];\n",
        "11.         array[minimo] = aux;\n",
        "12.     }\n",
        "13.     return array;\n",
        "14. }\n",
        "```"
      ],
      "metadata": {
        "id": "rZDSOiRzSReb"
      }
    },
    {
      "cell_type": "markdown",
      "source": [
        "Para calcular la complejidad algoritmica de este algoritmo primero debemos notar que tiene dos ciclos *for*, uno anidado dentro del otro, por eso calcularemos la complejidad temporal de cada ciclo para después mediante la regla del producto calcular la complejidad total. Para calcular ambas complejidades usamos la siguiente fórmula para el cálculo de la complejidad de ciclos *for* *(la llamaremos $F1$)*:\n",
        "\n",
        "$$ T(n) = \\sum_{i=1}^{Final-Inicio+1} T_{1,i}(n) + 2 \\cdot (Final - Inicio + 1) \\cdot c $$\n",
        "\n",
        "Las partes de la fórmula son:\n",
        "\n",
        "1. $T_{1,i}(n)$, o complejidad del cuerpo del ciclo.\n",
        "2. ($2 \\cdot (Final - Inicio + 1) \\cdot c$)\n",
        "\n",
        "Ahora, en el primer ciclo (línea 2) notamos que $inicio  = 0$ y que $final = n$ porque temos que recorrer el arreglo en toda su longitud, luego los condicionales y asignaciones dentro del arreglo tienen una complejidad total de $O(1)$ y al ciclo le sigue una asignacion simple $O(1)$ y un *swap* con complejidad $O(1)$ tambien, de este primer ciclo tenemos:\n",
        "\n",
        "* $Final−Inicio+1 = (n)-(0+1) = n-1$     \n",
        "* $T_{1,i}(n) = O(1)$\n",
        "\n",
        "Por $F1$ la complejidad de este primer ciclo es $O(n)$, ahora veamos el segundo ciclo.\n",
        "\n",
        "En este segundo ciclo volvemos a recorrer todo el arreglo, la complejidad de los condicionales y asignaciones dentro del arreglo tambien tienen una complejidad de $O(1)$, el cuerpo del arreglo tambien tiene complejidad $O(1)$ esto nos da lo siguiente:\n",
        "\n",
        "* $Final−Inicio+1 = (n)-(0+1) = n-1$     \n",
        "* $T_{1,i}(n) = O(1)$\n",
        "\n",
        "Por $F1$ la complejidad de este segundo ciclo es  tambien $O(n)$. Finalmente, aplicando regla del produco $T(n)$ es:\n",
        "\n",
        "$T(n) = O(n) ⋅ O(n) =  O(n^2) $\n",
        "\n",
        "\n",
        "\n",
        "\n",
        "\n",
        "\n",
        "\n"
      ],
      "metadata": {
        "id": "n-1f2yGKSzgW"
      }
    },
    {
      "cell_type": "markdown",
      "source": [
        "#### 2) **Bubble Sort:**"
      ],
      "metadata": {
        "id": "jidDnu2ySTuD"
      }
    },
    {
      "cell_type": "markdown",
      "source": [
        "```Java\n",
        "1.  int[] bubbleSort(int[] array) {\n",
        "2.      for (int i = 1; i < array.length; i++) {\n",
        "3.          for (int j = 0; j < array.length - i; j++) {\n",
        "4.              if (array[j] > array[j + 1]) {\n",
        "5.                  int aux = array[j + 1];\n",
        "6.                  array[j + 1] = array[j];\n",
        "7.                  array[j] = aux;\n",
        "8.              }\n",
        "9.          }\n",
        "10.     }\n",
        "11.     return array;\n",
        "12. }\n",
        "```"
      ],
      "metadata": {
        "id": "YyNYBMOzSUMC"
      }
    },
    {
      "cell_type": "markdown",
      "source": [],
      "metadata": {
        "id": "Fq37D9MkSUkb"
      }
    },
    {
      "cell_type": "markdown",
      "source": [
        "#### 3) **Shell Sort:**"
      ],
      "metadata": {
        "id": "7Il6KuYoSU5z"
      }
    },
    {
      "cell_type": "markdown",
      "source": [
        "```Java\n",
        "1.  int[] shellSort(int[] array) {\n",
        "2.      int gap = array.length / 2;\n",
        "3.      while (gap > 0) {\n",
        "4.          for (int i = gap; i < array.length; i++) {\n",
        "5.              int current = array[i];\n",
        "6.              int j = i;\n",
        "7.              while (j >= gap && array[j - gap] > current) {\n",
        "8.                  array[j] = array[j - gap];\n",
        "9.                  j -= gap;\n",
        "10.             }\n",
        "11.             array[j] = current;\n",
        "12.         }\n",
        "13.         gap = gap / 2;\n",
        "14.     }\n",
        "15.     return array;\n",
        "16. }\n",
        "```"
      ],
      "metadata": {
        "id": "LQAifYq2SXZz"
      }
    },
    {
      "cell_type": "markdown",
      "source": [],
      "metadata": {
        "id": "rqoNCx0rSYKT"
      }
    },
    {
      "cell_type": "markdown",
      "source": [
        "#### 4) **Quick Sort:**"
      ],
      "metadata": {
        "id": "cadLwmOzSYiC"
      }
    },
    {
      "cell_type": "markdown",
      "source": [
        "```Java\n",
        "\n",
        "```"
      ],
      "metadata": {
        "id": "T5mwosGVSY6D"
      }
    },
    {
      "cell_type": "markdown",
      "source": [],
      "metadata": {
        "id": "Sn34w_JoS-jL"
      }
    },
    {
      "cell_type": "markdown",
      "source": [
        "#### 5) **Merge Sort:**"
      ],
      "metadata": {
        "id": "tE-D5MjRS-5r"
      }
    },
    {
      "cell_type": "markdown",
      "source": [
        "```Java\n",
        "\n",
        "```"
      ],
      "metadata": {
        "id": "Xy1xHa9oS_Hs"
      }
    },
    {
      "cell_type": "markdown",
      "source": [],
      "metadata": {
        "id": "MqHPLZK_S_er"
      }
    },
    {
      "cell_type": "markdown",
      "source": [
        "# **Complejidad temporal *Big-Oh* en algoritmos de búsqueda:**\n"
      ],
      "metadata": {
        "id": "Bh1UD3lRy8YZ"
      }
    },
    {
      "cell_type": "markdown",
      "source": [
        "#### **1) Busqueda Secuencial:**"
      ],
      "metadata": {
        "id": "ntU10JRezKsA"
      }
    },
    {
      "cell_type": "markdown",
      "source": [
        "```Java\n",
        "1.  private static int linearSearch(int arr[], int n, int num) {\n",
        "2.      for (int i = 0; i < n; i++) {\n",
        "3.          if (arr[i] == num) {\n",
        "4.              return i;\n",
        "5.          }\n",
        "6.      }\n",
        "7.      return -1;\n",
        "8.  }\n",
        "```\n"
      ],
      "metadata": {
        "id": "7Zj6Kw5_IHBJ"
      }
    },
    {
      "cell_type": "markdown",
      "source": [
        "Usando la siguiente ecuación para calcular la complejidad:\n",
        "\n",
        "$$ T(n) = \\sum_{i=1}^{Final-Inicio+1} T_{1,i}(n) + 2 \\cdot (Final - Inicio + 1) \\cdot c $$\n",
        "\n",
        "De la segunda línea podemos ver que nuestro incio es $I = 0$ y nuestro final es $F = n-1$ (ya que i < n). Luego, las operaciones de comparación y asignación dentro del ciclo tienen una complejidad $O(1)$. Finalmente, el cuerpo del ciclo, es decir, en las líneas 3 y 4 tenemos una comparacíon y un retorno, ambos con complejidad $O(1)$. Ahora, de esto tenemos lo siguiente:\n",
        "\n",
        "* $Final−Inicio+1 = (n-1)-(0+1) = n$     \n",
        "* $T_{1,i}(n) = O(1)$ (cuerpo del ciclo)\n",
        "* $c = O(1)$ (constante)\n",
        "\n",
        "Por lo que $T(n)$ es igual a:\n",
        "\n",
        "$$ T(n) = \\sum_{i=1}^{n} O(1) + 2 \\cdot (n) \\cdot O(1) $$ desglosando esto en dos sumatorias:\n",
        "\n",
        "1. $ \\sum_{i=1}^{n} O(1) = n \\cdot O(1) = O(n) $\n",
        "2. $ \\sum_{i=1}^{n} 2 \\cdot (n) \\cdot O(1) = 2n \\cdot O(1) = O(n) $\n",
        "\n",
        "Finalmete sumando estos dos resultados tenemos que:  $T(n) = O(n) + O(n) = O(n)$\n",
        "\n",
        "---\n",
        "\n",
        "\n",
        "\n",
        "\n",
        "\n"
      ],
      "metadata": {
        "id": "9y3mfu6Iy65g"
      }
    },
    {
      "cell_type": "markdown",
      "source": [
        "#### 2) **Busque Binaria:**"
      ],
      "metadata": {
        "id": "1No1NRFGAICp"
      }
    },
    {
      "cell_type": "markdown",
      "source": [
        "```Java\n",
        "1.  private static boolean binarySearch(int arr[], int n, int num) {\n",
        "2.      int low = 0;\n",
        "3.      int high = n - 1;\n",
        "4.  \n",
        "5.      while (low <= high) {\n",
        "6.          int mid = ((high - low) / 2) + low;          \n",
        "8.          if (arr[mid] == num) {\n",
        "9.              return true;\n",
        "10.         }\n",
        "11.         else if (num < arr[mid]) {\n",
        "12.             high = mid - 1;\n",
        "13.         }\n",
        "14.         else {\n",
        "15.             low = mid + 1;\n",
        "16.         }\n",
        "17.     }\n",
        "18.     return false;\n",
        "19. }\n",
        "\n",
        "```\n"
      ],
      "metadata": {
        "id": "PXunB28cAmGx"
      }
    },
    {
      "cell_type": "markdown",
      "source": [
        "Al inicio de nuestro algoritmo tenemos dos asignaciones, con una complejidad total de $O(1)$. Luego viene el ciclo while, cuya condición de parada tiene una complejidad de $O(1)$. El cuerpo del ciclo también tiene una complejidad de  $O(1)$, porque solo realizamos asignaciones simples y comparaciones con una complejidad de $O(1)$. Así, la complejidad del cuerpo de nuestro ciclo es $O(1)$. Para proceder con el calculo de la complejidad del algoritmo contamos con la siguiente fórmula:\n",
        "\n",
        "$$T(n) = \\sum_{i=1}^{k-1} T_{2,i}(n) + k \\cdot T_{\\text{cond}}(n)$$\n",
        "\n",
        "$k$ es el número de iteraciones para reducir el espacio de búsqueda a _1_. En cada iteración, se calcula el punto medio del arreglo. Si el dato buscado está en el medio, se encuentra (mejor caso). Si no, el espacio de búsqueda se reduce a la mitad superior (dato mayor) o inferior (dato menor), repitiéndose hasta encontrar el dato o agotar el espacio. Esto refleja un patrón de división del espacio en cada iteración.\n",
        "\n",
        "1. Al reducir el espacio de busqueda a la mitad con cada iteración el ciclo tiene este comportamiento $n$, $\\frac{n}{2}$, $\\frac{n}{8}$ y, como se meciona arriba esto sigue hasta llegar a _1_, por lo que las iteraciones del ciclo siguen la siguiente relacion: $n, \\frac{n}{2}, \\frac{n}{4}, \\frac{n}{8},\\frac{n}{16} \\ldots, 1$.\n",
        "2. Para hallar $k$ debemos resolver la siguiente ecuación: $\\frac{n}{2^k}=1$. Despejando para $k$ tenemos $n=2^k$, luego $\\log(n)=\\log_2(k)$\n",
        "\n",
        "Para terminar, contamos con esta información para calcular $T(n)$:\n",
        "* $T_{2,i}(n) = O(1)$ (cuerpo de la función)\n",
        "* $T_{\\text{cond}}(n) = O(1)$ (condicón de parada)\n",
        "* $k = \\log(n)$\n",
        "\n",
        "Aplicando la fórmula tenemos que $T(n) = O(\\log(n))$\n",
        "\n"
      ],
      "metadata": {
        "id": "927oQQ5qCeKB"
      }
    }
  ]
}